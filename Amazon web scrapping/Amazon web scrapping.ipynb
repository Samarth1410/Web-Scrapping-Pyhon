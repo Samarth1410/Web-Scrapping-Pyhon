{
 "cells": [
  {
   "cell_type": "code",
   "execution_count": 3,
   "id": "f76c4b80-e63f-4088-9c33-2e2a6288adb3",
   "metadata": {},
   "outputs": [
    {
     "name": "stdout",
     "output_type": "stream",
     "text": [
      "Collecting selenium\n",
      "  Using cached selenium-4.7.2-py3-none-any.whl (6.3 MB)\n",
      "Collecting trio~=0.17\n",
      "  Using cached trio-0.22.0-py3-none-any.whl (384 kB)\n",
      "Requirement already satisfied: certifi>=2021.10.8 in d:\\anaconda\\envs\\fullstack\\lib\\site-packages (from selenium) (2022.9.24)\n",
      "Collecting trio-websocket~=0.9\n",
      "  Using cached trio_websocket-0.9.2-py3-none-any.whl (16 kB)\n",
      "Requirement already satisfied: urllib3[socks]~=1.26 in d:\\anaconda\\envs\\fullstack\\lib\\site-packages (from selenium) (1.26.13)\n",
      "Requirement already satisfied: idna in d:\\anaconda\\envs\\fullstack\\lib\\site-packages (from trio~=0.17->selenium) (3.4)\n",
      "Collecting async-generator>=1.9\n",
      "  Using cached async_generator-1.10-py3-none-any.whl (18 kB)\n",
      "Collecting outcome\n",
      "  Using cached outcome-1.2.0-py2.py3-none-any.whl (9.7 kB)\n",
      "Requirement already satisfied: attrs>=19.2.0 in d:\\anaconda\\envs\\fullstack\\lib\\site-packages (from trio~=0.17->selenium) (22.1.0)\n",
      "Collecting sortedcontainers\n",
      "  Downloading sortedcontainers-2.4.0-py2.py3-none-any.whl (29 kB)\n",
      "Collecting exceptiongroup>=1.0.0rc9\n",
      "  Using cached exceptiongroup-1.0.4-py3-none-any.whl (14 kB)\n",
      "Requirement already satisfied: sniffio in d:\\anaconda\\envs\\fullstack\\lib\\site-packages (from trio~=0.17->selenium) (1.2.0)\n",
      "Requirement already satisfied: cffi>=1.14 in d:\\anaconda\\envs\\fullstack\\lib\\site-packages (from trio~=0.17->selenium) (1.15.1)\n",
      "Collecting wsproto>=0.14\n",
      "  Using cached wsproto-1.2.0-py3-none-any.whl (24 kB)\n",
      "Requirement already satisfied: PySocks!=1.5.7,<2.0,>=1.5.6 in d:\\anaconda\\envs\\fullstack\\lib\\site-packages (from urllib3[socks]~=1.26->selenium) (1.7.1)\n",
      "Requirement already satisfied: pycparser in d:\\anaconda\\envs\\fullstack\\lib\\site-packages (from cffi>=1.14->trio~=0.17->selenium) (2.21)\n",
      "Collecting h11<1,>=0.9.0\n",
      "  Using cached h11-0.14.0-py3-none-any.whl (58 kB)\n",
      "Installing collected packages: sortedcontainers, outcome, h11, exceptiongroup, async-generator, wsproto, trio, trio-websocket, selenium\n",
      "Successfully installed async-generator-1.10 exceptiongroup-1.0.4 h11-0.14.0 outcome-1.2.0 selenium-4.7.2 sortedcontainers-2.4.0 trio-0.22.0 trio-websocket-0.9.2 wsproto-1.2.0\n"
     ]
    },
    {
     "name": "stderr",
     "output_type": "stream",
     "text": [
      "WARNING: Retrying (Retry(total=4, connect=None, read=None, redirect=None, status=None)) after connection broken by 'ReadTimeoutError(\"HTTPSConnectionPool(host='pypi.org', port=443): Read timed out. (read timeout=15)\")': /simple/selenium/\n"
     ]
    },
    {
     "name": "stdout",
     "output_type": "stream",
     "text": [
      "Collecting msedge-selenium-tools\n",
      "  Using cached msedge_selenium_tools-3.141.4-py3-none-any.whl (15 kB)\n",
      "Collecting selenium==3.141\n",
      "  Using cached selenium-3.141.0-py2.py3-none-any.whl (904 kB)\n",
      "Requirement already satisfied: urllib3 in d:\\anaconda\\envs\\fullstack\\lib\\site-packages (from selenium==3.141->msedge-selenium-tools) (1.26.13)\n",
      "Installing collected packages: selenium, msedge-selenium-tools\n",
      "  Attempting uninstall: selenium\n",
      "    Found existing installation: selenium 4.7.2\n",
      "    Uninstalling selenium-4.7.2:\n",
      "      Successfully uninstalled selenium-4.7.2\n",
      "Successfully installed msedge-selenium-tools-3.141.4 selenium-3.141.0\n",
      "Collecting bs4\n",
      "  Using cached bs4-0.0.1-py3-none-any.whl\n",
      "Requirement already satisfied: beautifulsoup4 in d:\\anaconda\\envs\\fullstack\\lib\\site-packages (from bs4) (4.11.1)\n",
      "Requirement already satisfied: soupsieve>1.2 in d:\\anaconda\\envs\\fullstack\\lib\\site-packages (from beautifulsoup4->bs4) (2.3.2.post1)\n",
      "Installing collected packages: bs4\n",
      "Successfully installed bs4-0.0.1\n"
     ]
    }
   ],
   "source": [
    "!pip install selenium\n",
    "!pip install msedge-selenium-tools\n",
    "!pip install bs4"
   ]
  },
  {
   "cell_type": "code",
   "execution_count": 1,
   "id": "63a49420-01a9-41b7-96a0-e1755e275c45",
   "metadata": {},
   "outputs": [
    {
     "name": "stdout",
     "output_type": "stream",
     "text": [
      "Collecting chromedriver_binary==109.0.5414.25\n",
      "  Downloading chromedriver-binary-109.0.5414.25.0.tar.gz (5.1 kB)\n",
      "  Preparing metadata (setup.py): started\n",
      "  Preparing metadata (setup.py): finished with status 'done'\n",
      "Building wheels for collected packages: chromedriver_binary\n",
      "  Building wheel for chromedriver_binary (setup.py): started\n",
      "  Building wheel for chromedriver_binary (setup.py): finished with status 'done'\n",
      "  Created wheel for chromedriver_binary: filename=chromedriver_binary-109.0.5414.25.0-py3-none-any.whl size=7077909 sha256=8edec9633d8e7364219b698d58342fe674eec4f90127c125003aa46a394ff0da\n",
      "  Stored in directory: c:\\users\\samar\\appdata\\local\\pip\\cache\\wheels\\c4\\87\\2b\\ed76610d8039ef7f1bb1d4767327152091ebc5e73337586809\n",
      "Successfully built chromedriver_binary\n",
      "Installing collected packages: chromedriver_binary\n",
      "Successfully installed chromedriver_binary-109.0.5414.25.0\n"
     ]
    }
   ],
   "source": [
    "!pip install chromedriver_binary==109.0.5414.25"
   ]
  },
  {
   "cell_type": "code",
   "execution_count": 8,
   "id": "f7cb8cb4-67fc-46fd-b973-7962e5a26690",
   "metadata": {},
   "outputs": [
    {
     "name": "stdout",
     "output_type": "stream",
     "text": [
      "Collecting webdriver_manager\n",
      "  Downloading webdriver_manager-3.8.5-py2.py3-none-any.whl (27 kB)\n",
      "Collecting python-dotenv\n",
      "  Downloading python_dotenv-0.21.0-py3-none-any.whl (18 kB)\n",
      "Requirement already satisfied: requests in d:\\anaconda\\envs\\fullstack\\lib\\site-packages (from webdriver_manager) (2.28.1)\n",
      "Requirement already satisfied: packaging in d:\\anaconda\\envs\\fullstack\\lib\\site-packages (from webdriver_manager) (21.3)\n",
      "Collecting tqdm\n",
      "  Using cached tqdm-4.64.1-py2.py3-none-any.whl (78 kB)\n",
      "Requirement already satisfied: pyparsing!=3.0.5,>=2.0.2 in d:\\anaconda\\envs\\fullstack\\lib\\site-packages (from packaging->webdriver_manager) (3.0.9)\n",
      "Requirement already satisfied: idna<4,>=2.5 in d:\\anaconda\\envs\\fullstack\\lib\\site-packages (from requests->webdriver_manager) (3.4)\n",
      "Requirement already satisfied: urllib3<1.27,>=1.21.1 in d:\\anaconda\\envs\\fullstack\\lib\\site-packages (from requests->webdriver_manager) (1.26.13)\n",
      "Requirement already satisfied: charset-normalizer<3,>=2 in d:\\anaconda\\envs\\fullstack\\lib\\site-packages (from requests->webdriver_manager) (2.0.4)\n",
      "Requirement already satisfied: certifi>=2017.4.17 in d:\\anaconda\\envs\\fullstack\\lib\\site-packages (from requests->webdriver_manager) (2022.9.24)\n",
      "Requirement already satisfied: colorama in d:\\anaconda\\envs\\fullstack\\lib\\site-packages (from tqdm->webdriver_manager) (0.4.5)\n",
      "Installing collected packages: tqdm, python-dotenv, webdriver_manager\n",
      "Successfully installed python-dotenv-0.21.0 tqdm-4.64.1 webdriver_manager-3.8.5\n"
     ]
    }
   ],
   "source": [
    "!pip install webdriver_manager"
   ]
  },
  {
   "cell_type": "code",
   "execution_count": 1,
   "id": "de8a7f51-944c-45fc-b675-9ae731ede9d6",
   "metadata": {},
   "outputs": [],
   "source": [
    "from selenium import webdriver\n",
    "import chromedriver_binary\n",
    "import csv"
   ]
  },
  {
   "cell_type": "code",
   "execution_count": 65,
   "id": "83462cbe-9447-4b34-8908-13b9b3936663",
   "metadata": {},
   "outputs": [],
   "source": [
    "from webdriver_manager.firefox import GeckoDriverManager\n",
    "path=GeckoDriverManager().install()\n",
    "\n",
    "# path='C:\\\\Users\\\\samar\\\\.wdm\\\\drivers\\\\geckodriver\\\\win64\\\\0.32\\\\geckodriver.exe'\n",
    "\n",
    "driver = webdriver.Firefox(executable_path = path)"
   ]
  },
  {
   "cell_type": "code",
   "execution_count": 66,
   "id": "e6bc7d99-fa5d-4495-b684-2c3285e549b8",
   "metadata": {},
   "outputs": [],
   "source": [
    "url= 'https://www.amazon.in/'\n",
    "driver.get(url)"
   ]
  },
  {
   "cell_type": "code",
   "execution_count": 68,
   "id": "5ce11b41-1a77-4050-b04c-eca46cbd7440",
   "metadata": {},
   "outputs": [],
   "source": [
    "driver.get(url)"
   ]
  },
  {
   "cell_type": "code",
   "execution_count": 67,
   "id": "3bd42c3d-918a-40cd-88ed-f44f51a20340",
   "metadata": {},
   "outputs": [],
   "source": [
    "def my_url(keyword):\n",
    "      temp = 'https://www.amazon.in/s?k={}&ref=nb_sb_noss_1' # a template url\n",
    "      keyword = keyword.replace(' ', '+')\n",
    "      return temp.format(keyword)"
   ]
  },
  {
   "cell_type": "code",
   "execution_count": 71,
   "id": "d9f17181",
   "metadata": {},
   "outputs": [],
   "source": [
    "url = my_url('smart watch')\n",
    "driver.get(url)"
   ]
  },
  {
   "cell_type": "code",
   "execution_count": 72,
   "id": "a159aabb-2579-4d31-a8e2-847d66327668",
   "metadata": {},
   "outputs": [],
   "source": [
    "from bs4 import BeautifulSoup\n",
    "\n",
    "soup = BeautifulSoup(driver.page_source,'html.parser')"
   ]
  },
  {
   "cell_type": "code",
   "execution_count": 74,
   "id": "1a181e8d-af00-449c-808d-068648811bfd",
   "metadata": {},
   "outputs": [],
   "source": [
    "soup_results=soup.find_all('div',{'data-component-type':'s-search-result'})"
   ]
  },
  {
   "cell_type": "code",
   "execution_count": 97,
   "id": "b950f4d7",
   "metadata": {},
   "outputs": [],
   "source": [
    "obj=soup_results[0]"
   ]
  },
  {
   "cell_type": "code",
   "execution_count": 98,
   "id": "c8eb1201",
   "metadata": {},
   "outputs": [],
   "source": [
    "atag = obj.h2.a #create the h2 tag variable"
   ]
  },
  {
   "cell_type": "code",
   "execution_count": 99,
   "id": "e77a2aa5",
   "metadata": {},
   "outputs": [],
   "source": [
    "des = atag.text.strip()"
   ]
  },
  {
   "cell_type": "code",
   "execution_count": 100,
   "id": "347b0418",
   "metadata": {},
   "outputs": [
    {
     "data": {
      "text/plain": [
       "'Noise ColorFit Pulse Grand Smart Watch with 1.69\"(4.29cm) HD Display, 60 Sports Modes, 150 Watch Faces, Fast Charge, Spo2, Stress, Sleep, Heart Rate Monitoring & IP68 Waterproof (Jet Black)'"
      ]
     },
     "execution_count": 100,
     "metadata": {},
     "output_type": "execute_result"
    }
   ],
   "source": [
    "des #Name of first block"
   ]
  },
  {
   "cell_type": "code",
   "execution_count": 101,
   "id": "5dcb2d2e",
   "metadata": {},
   "outputs": [],
   "source": [
    "#create a generic url\n",
    "url='https://www.amazon.in/'+atag.get('href')"
   ]
  },
  {
   "cell_type": "code",
   "execution_count": 102,
   "id": "6265ddac",
   "metadata": {},
   "outputs": [
    {
     "data": {
      "text/plain": [
       "'/sspa/click?ie=UTF8&spc=MTo4ODg5NDEzNDUzOTk5MjY3OjE2NzEwMTE0MTE6c3BfYXRmOjIwMDQwOTQxNTUwOTk4OjowOjo&url=%2FNoise-ColorFit-Display-Monitoring-Smartwatches%2Fdp%2FB09NVPSCQT%2Fref%3Dsr_1_1_sspa%3Fkeywords%3Dsmart%2Bwatch%26qid%3D1671011411%26sr%3D8-1-spons%26sp_csd%3Dd2lkZ2V0TmFtZT1zcF9hdGY%26psc%3D1'"
      ]
     },
     "execution_count": 102,
     "metadata": {},
     "output_type": "execute_result"
    }
   ],
   "source": [
    "atag.get('href')"
   ]
  },
  {
   "cell_type": "markdown",
   "id": "4e0f9349",
   "metadata": {},
   "source": [
    "# Price"
   ]
  },
  {
   "cell_type": "code",
   "execution_count": 103,
   "id": "5680ca3f",
   "metadata": {},
   "outputs": [
    {
     "data": {
      "text/plain": [
       "'₹1,599'"
      ]
     },
     "execution_count": 103,
     "metadata": {},
     "output_type": "execute_result"
    }
   ],
   "source": [
    "parent=obj.find('span','a-price')\n",
    "\n",
    "price=parent.find('span','a-offscreen').text\n",
    "\n",
    "price"
   ]
  },
  {
   "cell_type": "markdown",
   "id": "5cf53975",
   "metadata": {},
   "source": [
    "# Ratings"
   ]
  },
  {
   "cell_type": "code",
   "execution_count": 104,
   "id": "0c37dd65",
   "metadata": {},
   "outputs": [
    {
     "data": {
      "text/plain": [
       "'4.0 out of 5 stars'"
      ]
     },
     "execution_count": 104,
     "metadata": {},
     "output_type": "execute_result"
    }
   ],
   "source": [
    "rate=obj.find('span','a-icon-alt').text\n",
    "rate"
   ]
  },
  {
   "cell_type": "markdown",
   "id": "b6046cdb",
   "metadata": {},
   "source": [
    "# Total Ratings"
   ]
  },
  {
   "cell_type": "code",
   "execution_count": 106,
   "id": "848c2d59",
   "metadata": {},
   "outputs": [
    {
     "data": {
      "text/plain": [
       "'28,598'"
      ]
     },
     "execution_count": 106,
     "metadata": {},
     "output_type": "execute_result"
    }
   ],
   "source": [
    "counts_review=obj.find('span',{'class':'a-size-base s-underline-text'}).text\n",
    "counts_review"
   ]
  },
  {
   "cell_type": "markdown",
   "id": "b0f76e17",
   "metadata": {},
   "source": [
    "# Generic Fuction"
   ]
  },
  {
   "cell_type": "code",
   "execution_count": 171,
   "id": "c1776b97",
   "metadata": {},
   "outputs": [],
   "source": [
    "from selenium import webdriver\n",
    "import chromedriver_binary\n",
    "from bs4 import BeautifulSoup\n",
    "import csv\n",
    "\n",
    "\n",
    "def my_url(keyword):\n",
    "    temp = 'https://www.amazon.in/s?k={}'  #s?k=watch&page=7\n",
    "    \n",
    "    keyword = keyword.replace(' ', '+')\n",
    "    url = temp.format(keyword)\n",
    "    \n",
    "    url += '&page={}'\n",
    "    \n",
    "    return url\n",
    "\n",
    "def extract_record(obj):\n",
    "    atag = obj.h2.a\n",
    "    description = atag.text.strip()\n",
    "    url = 'https://www.amazon.in' + atag.get('href')\n",
    "    \n",
    "    #it is possible that some items on amazom.com might not be having one of the items we are looking for(e.g. some items might not be having ratings or price), we will be getting error if we dont take care of that. We will therefore add some error handlers\n",
    "    #if there are no price,probably the item is out of stock or not available, then we will ignore the item, but if there are no reviews yet, it's fine, we will still want to extract the item.\n",
    "    try:\n",
    "        parent=obj.find('span','a-price')\n",
    "        price=parent.find('span','a-offscreen').text\n",
    "    except AttributeError:\n",
    "        return\n",
    "    \n",
    "    try:\n",
    "        rate=obj.find('span','a-icon-alt').text\n",
    "        counts_review = obj.find('span', {'class': 'a-size-base s-underline-text'}).text\n",
    "    except AttributeError:\n",
    "        rate = ''\n",
    "        counts_review = ''\n",
    "    \n",
    "    image = obj.find('img', {'class': 's-image'}).get('src') \n",
    "\n",
    "    result = (description, price, rate, counts_review, url,image)\n",
    "    return result\n",
    "\n",
    "\n",
    "\n",
    "\n",
    "\n",
    "\n",
    "'''Run Main Program Routine'''\n",
    "def main(keyword):\n",
    "    driver = webdriver.Firefox(executable_path='C:\\\\Users\\\\samar\\\\.wdm\\\\drivers\\\\geckodriver\\\\win64\\\\0.32\\\\geckodriver.exe')\n",
    "\n",
    "    \n",
    "    records = [] \n",
    "    url =my_url(keyword)\n",
    "    \n",
    "    #SEPERATELY OPENING FIRST PAGE TO GET MAXIMUM AVAILABLE PAGES\n",
    "    driver.get(url.format(1))\n",
    "    soup =BeautifulSoup(driver.page_source, 'html.parser')\n",
    "    possible_pages=int(soup.find('span',class_='s-pagination-item s-pagination-disabled').text)\n",
    "    print(possible_pages)\n",
    "    \n",
    "    for page in range(1,possible_pages+1):\n",
    "        driver.get(url.format(page))\n",
    "        soup =BeautifulSoup(driver.page_source, 'html.parser')\n",
    "        results=soup.find_all('div',{'data-component-type':'s-search-result'})\n",
    "\n",
    "        \n",
    "        for item in results:\n",
    "            record = extract_record(item) \n",
    "            if record: \n",
    "                records.append(record) \n",
    "                \n",
    "    \n",
    "        with open('Results.csv', 'w', newline='', encoding='utf-8') as f:\n",
    "            writer = csv.writer(f)\n",
    "            writer.writerow(['Description', 'Price', 'Rating', 'Reviews Count', 'URL','Image link'])\n",
    "            writer.writerows(records)"
   ]
  },
  {
   "cell_type": "code",
   "execution_count": 176,
   "id": "fd23783a",
   "metadata": {},
   "outputs": [
    {
     "name": "stdout",
     "output_type": "stream",
     "text": [
      "8\n"
     ]
    }
   ],
   "source": [
    "main('samsung m13')"
   ]
  },
  {
   "cell_type": "code",
   "execution_count": 177,
   "id": "bd69a4e5",
   "metadata": {},
   "outputs": [
    {
     "data": {
      "text/html": [
       "<div>\n",
       "<style scoped>\n",
       "    .dataframe tbody tr th:only-of-type {\n",
       "        vertical-align: middle;\n",
       "    }\n",
       "\n",
       "    .dataframe tbody tr th {\n",
       "        vertical-align: top;\n",
       "    }\n",
       "\n",
       "    .dataframe thead th {\n",
       "        text-align: right;\n",
       "    }\n",
       "</style>\n",
       "<table border=\"1\" class=\"dataframe\">\n",
       "  <thead>\n",
       "    <tr style=\"text-align: right;\">\n",
       "      <th></th>\n",
       "      <th>Description</th>\n",
       "      <th>Price</th>\n",
       "      <th>Rating</th>\n",
       "      <th>Reviews Count</th>\n",
       "      <th>URL</th>\n",
       "      <th>Image link</th>\n",
       "    </tr>\n",
       "  </thead>\n",
       "  <tbody>\n",
       "    <tr>\n",
       "      <th>0</th>\n",
       "      <td>Samsung Galaxy M13 (Aqua Green, 4GB, 64GB Stor...</td>\n",
       "      <td>₹9,699</td>\n",
       "      <td>4.0 out of 5 stars</td>\n",
       "      <td>16,878</td>\n",
       "      <td>https://www.amazon.in/sspa/click?ie=UTF8&amp;spc=M...</td>\n",
       "      <td>https://m.media-amazon.com/images/W/WEBP_40237...</td>\n",
       "    </tr>\n",
       "    <tr>\n",
       "      <th>1</th>\n",
       "      <td>Samsung Galaxy M13 (Aqua Green, 4GB, 64GB Stor...</td>\n",
       "      <td>₹9,699</td>\n",
       "      <td>4.0 out of 5 stars</td>\n",
       "      <td>16,878</td>\n",
       "      <td>https://www.amazon.in/Samsung-Galaxy-Storage-6...</td>\n",
       "      <td>https://m.media-amazon.com/images/W/WEBP_40237...</td>\n",
       "    </tr>\n",
       "    <tr>\n",
       "      <th>2</th>\n",
       "      <td>Samsung Galaxy M13 (Aqua Green, 6GB, 128GB Sto...</td>\n",
       "      <td>₹11,699</td>\n",
       "      <td>4.0 out of 5 stars</td>\n",
       "      <td>16,878</td>\n",
       "      <td>https://www.amazon.in/Samsung-Galaxy-Storage-6...</td>\n",
       "      <td>https://m.media-amazon.com/images/W/WEBP_40237...</td>\n",
       "    </tr>\n",
       "    <tr>\n",
       "      <th>3</th>\n",
       "      <td>Samsung Galaxy M13 (Midnight Blue, 4GB, 64GB S...</td>\n",
       "      <td>₹9,699</td>\n",
       "      <td>4.0 out of 5 stars</td>\n",
       "      <td>16,878</td>\n",
       "      <td>https://www.amazon.in/Samsung-Midnight-Storage...</td>\n",
       "      <td>https://m.media-amazon.com/images/W/WEBP_40237...</td>\n",
       "    </tr>\n",
       "    <tr>\n",
       "      <th>4</th>\n",
       "      <td>Samsung Galaxy M13 5G (Midnight Blue, 4GB, 64G...</td>\n",
       "      <td>₹13,999</td>\n",
       "      <td>4.0 out of 5 stars</td>\n",
       "      <td>16,878</td>\n",
       "      <td>https://www.amazon.in/Samsung-Midnight-Storage...</td>\n",
       "      <td>https://m.media-amazon.com/images/W/WEBP_40237...</td>\n",
       "    </tr>\n",
       "    <tr>\n",
       "      <th>...</th>\n",
       "      <td>...</td>\n",
       "      <td>...</td>\n",
       "      <td>...</td>\n",
       "      <td>...</td>\n",
       "      <td>...</td>\n",
       "      <td>...</td>\n",
       "    </tr>\n",
       "    <tr>\n",
       "      <th>117</th>\n",
       "      <td>Samsung Galaxy M53 5G (Emerald Brown, 6GB, 128...</td>\n",
       "      <td>₹26,499</td>\n",
       "      <td>3.9 out of 5 stars</td>\n",
       "      <td>8,335</td>\n",
       "      <td>https://www.amazon.in/Samsung-Emerald-Storage-...</td>\n",
       "      <td>https://m.media-amazon.com/images/W/WEBP_40237...</td>\n",
       "    </tr>\n",
       "    <tr>\n",
       "      <th>118</th>\n",
       "      <td>Samsung Galaxy S20 FE 5G (Cloud Lavender, 8GB ...</td>\n",
       "      <td>₹37,990</td>\n",
       "      <td>4.2 out of 5 stars</td>\n",
       "      <td>26,896</td>\n",
       "      <td>https://www.amazon.in/Samsung-Galaxy-Cloud-Lav...</td>\n",
       "      <td>https://m.media-amazon.com/images/W/WEBP_40237...</td>\n",
       "    </tr>\n",
       "    <tr>\n",
       "      <th>119</th>\n",
       "      <td>Samsung Galaxy S22 Ultra 5G (Phantom Black, 12...</td>\n",
       "      <td>₹1,12,998</td>\n",
       "      <td>4.4 out of 5 stars</td>\n",
       "      <td>1,388</td>\n",
       "      <td>https://www.amazon.in/Samsung-Galaxy-Phantom-S...</td>\n",
       "      <td>https://m.media-amazon.com/images/W/WEBP_40237...</td>\n",
       "    </tr>\n",
       "    <tr>\n",
       "      <th>120</th>\n",
       "      <td>Samsung Galaxy S22 Ultra 5G (Burgundy, 12GB, 5...</td>\n",
       "      <td>₹1,18,999</td>\n",
       "      <td>4.4 out of 5 stars</td>\n",
       "      <td>1,388</td>\n",
       "      <td>https://www.amazon.in/Samsung-Burgundy-Storage...</td>\n",
       "      <td>https://m.media-amazon.com/images/W/WEBP_40237...</td>\n",
       "    </tr>\n",
       "    <tr>\n",
       "      <th>121</th>\n",
       "      <td>Samsung Galaxy M53 5G (Mystique Green, 6GB, 12...</td>\n",
       "      <td>₹26,499</td>\n",
       "      <td>3.9 out of 5 stars</td>\n",
       "      <td>8,335</td>\n",
       "      <td>https://www.amazon.in/Samsung-Mystique-Storage...</td>\n",
       "      <td>https://m.media-amazon.com/images/W/WEBP_40237...</td>\n",
       "    </tr>\n",
       "  </tbody>\n",
       "</table>\n",
       "<p>122 rows × 6 columns</p>\n",
       "</div>"
      ],
      "text/plain": [
       "                                           Description      Price  \\\n",
       "0    Samsung Galaxy M13 (Aqua Green, 4GB, 64GB Stor...     ₹9,699   \n",
       "1    Samsung Galaxy M13 (Aqua Green, 4GB, 64GB Stor...     ₹9,699   \n",
       "2    Samsung Galaxy M13 (Aqua Green, 6GB, 128GB Sto...    ₹11,699   \n",
       "3    Samsung Galaxy M13 (Midnight Blue, 4GB, 64GB S...     ₹9,699   \n",
       "4    Samsung Galaxy M13 5G (Midnight Blue, 4GB, 64G...    ₹13,999   \n",
       "..                                                 ...        ...   \n",
       "117  Samsung Galaxy M53 5G (Emerald Brown, 6GB, 128...    ₹26,499   \n",
       "118  Samsung Galaxy S20 FE 5G (Cloud Lavender, 8GB ...    ₹37,990   \n",
       "119  Samsung Galaxy S22 Ultra 5G (Phantom Black, 12...  ₹1,12,998   \n",
       "120  Samsung Galaxy S22 Ultra 5G (Burgundy, 12GB, 5...  ₹1,18,999   \n",
       "121  Samsung Galaxy M53 5G (Mystique Green, 6GB, 12...    ₹26,499   \n",
       "\n",
       "                 Rating Reviews Count  \\\n",
       "0    4.0 out of 5 stars        16,878   \n",
       "1    4.0 out of 5 stars        16,878   \n",
       "2    4.0 out of 5 stars        16,878   \n",
       "3    4.0 out of 5 stars        16,878   \n",
       "4    4.0 out of 5 stars        16,878   \n",
       "..                  ...           ...   \n",
       "117  3.9 out of 5 stars         8,335   \n",
       "118  4.2 out of 5 stars        26,896   \n",
       "119  4.4 out of 5 stars         1,388   \n",
       "120  4.4 out of 5 stars         1,388   \n",
       "121  3.9 out of 5 stars         8,335   \n",
       "\n",
       "                                                   URL  \\\n",
       "0    https://www.amazon.in/sspa/click?ie=UTF8&spc=M...   \n",
       "1    https://www.amazon.in/Samsung-Galaxy-Storage-6...   \n",
       "2    https://www.amazon.in/Samsung-Galaxy-Storage-6...   \n",
       "3    https://www.amazon.in/Samsung-Midnight-Storage...   \n",
       "4    https://www.amazon.in/Samsung-Midnight-Storage...   \n",
       "..                                                 ...   \n",
       "117  https://www.amazon.in/Samsung-Emerald-Storage-...   \n",
       "118  https://www.amazon.in/Samsung-Galaxy-Cloud-Lav...   \n",
       "119  https://www.amazon.in/Samsung-Galaxy-Phantom-S...   \n",
       "120  https://www.amazon.in/Samsung-Burgundy-Storage...   \n",
       "121  https://www.amazon.in/Samsung-Mystique-Storage...   \n",
       "\n",
       "                                            Image link  \n",
       "0    https://m.media-amazon.com/images/W/WEBP_40237...  \n",
       "1    https://m.media-amazon.com/images/W/WEBP_40237...  \n",
       "2    https://m.media-amazon.com/images/W/WEBP_40237...  \n",
       "3    https://m.media-amazon.com/images/W/WEBP_40237...  \n",
       "4    https://m.media-amazon.com/images/W/WEBP_40237...  \n",
       "..                                                 ...  \n",
       "117  https://m.media-amazon.com/images/W/WEBP_40237...  \n",
       "118  https://m.media-amazon.com/images/W/WEBP_40237...  \n",
       "119  https://m.media-amazon.com/images/W/WEBP_40237...  \n",
       "120  https://m.media-amazon.com/images/W/WEBP_40237...  \n",
       "121  https://m.media-amazon.com/images/W/WEBP_40237...  \n",
       "\n",
       "[122 rows x 6 columns]"
      ]
     },
     "execution_count": 177,
     "metadata": {},
     "output_type": "execute_result"
    }
   ],
   "source": [
    "import pandas as pd\n",
    "df=pd.read_csv('Results.csv')\n",
    "df"
   ]
  },
  {
   "cell_type": "code",
   "execution_count": null,
   "id": "2ec68b31",
   "metadata": {},
   "outputs": [],
   "source": []
  }
 ],
 "metadata": {
  "kernelspec": {
   "display_name": "Python 3 (ipykernel)",
   "language": "python",
   "name": "python3"
  },
  "language_info": {
   "codemirror_mode": {
    "name": "ipython",
    "version": 3
   },
   "file_extension": ".py",
   "mimetype": "text/x-python",
   "name": "python",
   "nbconvert_exporter": "python",
   "pygments_lexer": "ipython3",
   "version": "3.9.15"
  }
 },
 "nbformat": 4,
 "nbformat_minor": 5
}
